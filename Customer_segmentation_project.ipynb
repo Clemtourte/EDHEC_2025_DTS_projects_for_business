{
  "nbformat": 4,
  "nbformat_minor": 0,
  "metadata": {
    "colab": {
      "provenance": []
    },
    "kernelspec": {
      "name": "python3",
      "display_name": "Python 3"
    }
  },
  "cells": [
    {
      "cell_type": "markdown",
      "metadata": {
        "id": "B2QAXKgRL1O1"
      },
      "source": [
        "# Customer segmentation project"
      ]
    },
    {
      "cell_type": "markdown",
      "metadata": {
        "id": "IXbDrO3aL59p"
      },
      "source": [
        "Your are a datascientist working as a consultant for [Olist](https://olist.com/), a sales solution for online marketplaces.\n",
        "\n",
        "\n",
        "Olist wants you to develop a customer segmentation that its marketing teams can use on a routine basis for their communicaion campaigns.\n",
        "\n",
        "\n",
        "You have an initial meeting with Olist's Marketing Director, Sophia, to better understand the need of the project. Here somme notes you took :\n",
        "- Olist marketing teams need an actionable description of the segmentation that allows them to thoroughly grasp its underlying logic (Notebook format).\n",
        "- The [database](https://www.kaggle.com/olistbr/brazilian-ecommerce) contains information such as order history, products purchased, customer satisfaction comments, and location.\n",
        "- The quality of the data is somewhat poor. The idea is to create the best possible features for making optimum use of them.\n",
        "- Customer segmentation means understand the different types of users. Unsupervised algorithm is probably the best to use.\n",
        "- The segmentation needs to be robust: adding a few new customers to the database and creating a new segmentation using the same model should not result in totally different conclusions."
      ]
    },
    {
      "cell_type": "markdown",
      "metadata": {
        "id": "jP-D-hTYOrn1"
      },
      "source": [
        "TIPS : Feel free to take inspiration from the notebooks available on Kaggle."
      ]
    },
    {
      "cell_type": "markdown",
      "metadata": {
        "id": "c1JhpkVnMxKU"
      },
      "source": [
        "# 1. Join the different datasets into one dataset"
      ]
    },
    {
      "cell_type": "markdown",
      "metadata": {
        "id": "lPwMgRL-Oz2j"
      },
      "source": [
        "TIPS : Use the function `merge` feel free to use the [doc](https://pandas.pydata.org/pandas-docs/stable/reference/api/pandas.DataFrame.merge.html)."
      ]
    },
    {
      "cell_type": "markdown",
      "source": [
        "Join the table customer - orders - items"
      ],
      "metadata": {
        "id": "C5mqiGY87FCb"
      }
    },
    {
      "cell_type": "code",
      "metadata": {
        "id": "gwjgpASLM5mL"
      },
      "source": [
        "import pandas as pd\n",
        "import numpy as np\n",
        "import matplotlib.pyplot as plt\n",
        "import kagglehub\n",
        "path = kagglehub.dataset_download(\"olistbr/brazilian-ecommerce\")\n",
        "data_path = \"/root/.cache/kagglehub/datasets/olistbr/brazilian-ecommerce/versions/2/\""
      ],
      "execution_count": 5,
      "outputs": []
    },
    {
      "cell_type": "code",
      "source": [
        "customers = pd.read_csv(f\"{data_path}/olist_customers_dataset.csv\")\n",
        "orders = pd.read_csv(f\"{data_path}/olist_orders_dataset.csv\")\n",
        "order_items = pd.read_csv(f\"{data_path}/olist_order_items_dataset.csv\")\n",
        "\n",
        "customer_orders = customers.merge(orders, on=\"customer_id\", how=\"inner\")\n",
        "final_df = customer_orders.merge(order_items, on=\"order_id\", how=\"inner\")\n",
        "print(final_df.head())  # Affiche les premières lignes\n",
        "print(final_df.columns)  # Liste toutes les colonnes disponibles"
      ],
      "metadata": {
        "colab": {
          "base_uri": "https://localhost:8080/"
        },
        "id": "TdEWD_pa2DOc",
        "outputId": "d9d5076f-3a44-4a0d-d75d-ab333a9adf88"
      },
      "execution_count": 7,
      "outputs": [
        {
          "output_type": "stream",
          "name": "stdout",
          "text": [
            "                        customer_id                customer_unique_id  \\\n",
            "0  06b8999e2fba1a1fbc88172c00ba8bc7  861eff4711a542e4b93843c6dd7febb0   \n",
            "1  18955e83d337fd6b2def6b18a428ac77  290c77bc529b7ac935b93aa66c333dc3   \n",
            "2  4e7b3e00288586ebd08712fdd0374a03  060e732b5b29e8181a18229c7b0b2b5e   \n",
            "3  b2b6027bc5c5109e529d4dc6358b12c3  259dac757896d24d7702b9acbbff3f3c   \n",
            "4  4f2d8ab171c80ec8364f7c12e35b23ad  345ecd01c38d18a9036ed96c73b8d066   \n",
            "\n",
            "   customer_zip_code_prefix          customer_city customer_state  \\\n",
            "0                     14409                 franca             SP   \n",
            "1                      9790  sao bernardo do campo             SP   \n",
            "2                      1151              sao paulo             SP   \n",
            "3                      8775        mogi das cruzes             SP   \n",
            "4                     13056               campinas             SP   \n",
            "\n",
            "                           order_id order_status order_purchase_timestamp  \\\n",
            "0  00e7ee1b050b8499577073aeb2a297a1    delivered      2017-05-16 15:05:35   \n",
            "1  29150127e6685892b6eab3eec79f59c7    delivered      2018-01-12 20:48:24   \n",
            "2  b2059ed67ce144a36e2aa97d2c9e9ad2    delivered      2018-05-19 16:07:45   \n",
            "3  951670f92359f4fe4a63112aa7306eba    delivered      2018-03-13 16:06:38   \n",
            "4  6b7d50bd145f6fc7f33cebabd7e49d0f    delivered      2018-07-29 09:51:30   \n",
            "\n",
            "     order_approved_at order_delivered_carrier_date  \\\n",
            "0  2017-05-16 15:22:12          2017-05-23 10:47:57   \n",
            "1  2018-01-12 20:58:32          2018-01-15 17:14:59   \n",
            "2  2018-05-20 16:19:10          2018-06-11 14:31:00   \n",
            "3  2018-03-13 17:29:19          2018-03-27 23:22:42   \n",
            "4  2018-07-29 10:10:09          2018-07-30 15:16:00   \n",
            "\n",
            "  order_delivered_customer_date order_estimated_delivery_date  order_item_id  \\\n",
            "0           2017-05-25 10:35:35           2017-06-05 00:00:00              1   \n",
            "1           2018-01-29 12:41:19           2018-02-06 00:00:00              1   \n",
            "2           2018-06-14 17:58:51           2018-06-13 00:00:00              1   \n",
            "3           2018-03-28 16:04:25           2018-04-10 00:00:00              1   \n",
            "4           2018-08-09 20:55:48           2018-08-15 00:00:00              1   \n",
            "\n",
            "                         product_id                         seller_id  \\\n",
            "0  a9516a079e37a9c9c36b9b78b10169e8  7c67e1448b00f6e969d365cea6b010ab   \n",
            "1  4aa6014eceb682077f9dc4bffebc05b0  b8bc237ba3788b23da09c0f1f3a3288c   \n",
            "2  bd07b66896d6f1494f5b86251848ced7  7c67e1448b00f6e969d365cea6b010ab   \n",
            "3  a5647c44af977b148e0a3a4751a09e2e  7c67e1448b00f6e969d365cea6b010ab   \n",
            "4  9391a573abe00141c56e38d84d7d5b3b  4a3ca9315b744ce9f8e9374361493884   \n",
            "\n",
            "   shipping_limit_date   price  freight_value  \n",
            "0  2017-05-22 15:22:12  124.99          21.88  \n",
            "1  2018-01-18 20:58:32  289.00          46.48  \n",
            "2  2018-06-05 16:19:10  139.94          17.79  \n",
            "3  2018-03-27 16:31:16  149.94          23.36  \n",
            "4  2018-07-31 10:10:09  230.00          22.25  \n",
            "Index(['customer_id', 'customer_unique_id', 'customer_zip_code_prefix',\n",
            "       'customer_city', 'customer_state', 'order_id', 'order_status',\n",
            "       'order_purchase_timestamp', 'order_approved_at',\n",
            "       'order_delivered_carrier_date', 'order_delivered_customer_date',\n",
            "       'order_estimated_delivery_date', 'order_item_id', 'product_id',\n",
            "       'seller_id', 'shipping_limit_date', 'price', 'freight_value'],\n",
            "      dtype='object')\n"
          ]
        }
      ]
    },
    {
      "cell_type": "markdown",
      "metadata": {
        "id": "FIfU_twjM7D-"
      },
      "source": [
        "# 2. Understand, analyse and clean the dataset"
      ]
    },
    {
      "cell_type": "markdown",
      "metadata": {
        "id": "DEvltFA-Ohn9"
      },
      "source": [
        "TIPS : The quality of the dataset is not very good, don't hesitate to remove the variables with too many missing values."
      ]
    },
    {
      "cell_type": "code",
      "metadata": {
        "id": "HvCnSTlOLx_2"
      },
      "source": [
        "# Your code"
      ],
      "execution_count": null,
      "outputs": []
    },
    {
      "cell_type": "markdown",
      "metadata": {
        "id": "omhH_3INNG6b"
      },
      "source": [
        "# 4 Choose the variables of interest in your dataset and create your segmentation dataset"
      ]
    },
    {
      "cell_type": "markdown",
      "metadata": {
        "id": "_ycbYzEvOZE2"
      },
      "source": [
        "TIPS : Don't use all your variables for your segmentation, use only the varaibles that you think are the most relevant to your marketing team."
      ]
    },
    {
      "cell_type": "code",
      "metadata": {
        "id": "NED4edbyNF01"
      },
      "source": [
        "# Your code"
      ],
      "execution_count": null,
      "outputs": []
    },
    {
      "cell_type": "markdown",
      "source": [
        "# 5 Use RFM segmentation"
      ],
      "metadata": {
        "id": "yfLUXr2Q7Cn0"
      }
    },
    {
      "cell_type": "markdown",
      "source": [
        "TIPS: Use the variables Recency, Frequency and Amount to separate the population into 4 groups (Premium, Gold, Silver, Standard) using quantiles."
      ],
      "metadata": {
        "id": "OJNz3O3z7Cf9"
      }
    },
    {
      "cell_type": "code",
      "source": [
        "# Your Code"
      ],
      "metadata": {
        "id": "rMJm7TjH7DAM"
      },
      "execution_count": null,
      "outputs": []
    },
    {
      "cell_type": "markdown",
      "metadata": {
        "id": "jANeQIyENR7H"
      },
      "source": [
        "# 6 Test Two different segmentation algorithms"
      ]
    },
    {
      "cell_type": "markdown",
      "metadata": {
        "id": "JXZ50eOsPL8T"
      },
      "source": [
        "TIPS : You can use [others algorithms](https://scikit-learn.org/stable/modules/clustering.html) that sklearn offers. (K-means and Gaussian Mixture are the easiest to use)."
      ]
    },
    {
      "cell_type": "code",
      "metadata": {
        "id": "0i-V4BpdNYYH"
      },
      "source": [
        "# Your code"
      ],
      "execution_count": null,
      "outputs": []
    },
    {
      "cell_type": "markdown",
      "metadata": {
        "id": "9LToIIxRNZsO"
      },
      "source": [
        "# 7 Choose the optimal number of clusters"
      ]
    },
    {
      "cell_type": "markdown",
      "metadata": {
        "id": "lzRB4j5YOP54"
      },
      "source": [
        "TIPS : The goal is to create a segmentation that your marketing team can use, so don't use too many clusters."
      ]
    },
    {
      "cell_type": "code",
      "metadata": {
        "id": "zuu77DZPNdbN"
      },
      "source": [
        "# Your code"
      ],
      "execution_count": null,
      "outputs": []
    },
    {
      "cell_type": "markdown",
      "metadata": {
        "id": "1HxrhbhpNe4T"
      },
      "source": [
        "# 8 Visualize your data using PCA and coloring the data according to their class"
      ]
    },
    {
      "cell_type": "markdown",
      "metadata": {
        "id": "w5_KzxPzPizU"
      },
      "source": [
        "TIPS : Feel free to use the [doc](https://scikit-learn.org/stable/modules/generated/sklearn.decomposition.PCA.html)"
      ]
    },
    {
      "cell_type": "code",
      "metadata": {
        "id": "0i8BxHPBNk4l"
      },
      "source": [
        "# Your code"
      ],
      "execution_count": null,
      "outputs": []
    },
    {
      "cell_type": "markdown",
      "metadata": {
        "id": "bJO1vBSjNmku"
      },
      "source": [
        "# 9 Analyse your customer clusters and find different behaviors"
      ]
    },
    {
      "cell_type": "markdown",
      "metadata": {
        "id": "4pavLxupPkR4"
      },
      "source": [
        "TIPS : You can use additional variables for determining the behavior of your segments than those used for segmentation."
      ]
    },
    {
      "cell_type": "code",
      "metadata": {
        "id": "ZnvMxJbZNl0O"
      },
      "source": [
        "# Your code"
      ],
      "execution_count": null,
      "outputs": []
    }
  ]
}